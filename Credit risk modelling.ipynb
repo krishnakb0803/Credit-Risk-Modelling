{
 "cells": [
  {
   "cell_type": "code",
   "execution_count": 1,
   "id": "d020af31-228b-42b5-ba32-83df84f3b77f",
   "metadata": {},
   "outputs": [],
   "source": [
    "import pandas as pd\n",
    "import numpy as np\n",
    "from matplotlib import pyplot as plt\n",
    "import seaborn as sns\n",
    "from sklearn.model_selection import train_test_split\n",
    "\n",
    "pd.set_option('display.float_format', lambda x: '{:.2f}'.format(x))\n",
    "np.set_printoptions(suppress=True)"
   ]
  },
  {
   "cell_type": "code",
   "execution_count": 2,
   "id": "7af94946-c2b4-4d0b-a3eb-91bdb890f47d",
   "metadata": {},
   "outputs": [
    {
     "ename": "FileNotFoundError",
     "evalue": "[Errno 2] No such file or directory: 'C:\\\\Users\\\\VIVEK KUMAR\\\\credit risk modelling\\\\datasets\\\\customers.csv'",
     "output_type": "error",
     "traceback": [
      "\u001b[1;31m---------------------------------------------------------------------------\u001b[0m",
      "\u001b[1;31mFileNotFoundError\u001b[0m                         Traceback (most recent call last)",
      "Cell \u001b[1;32mIn[2], line 1\u001b[0m\n\u001b[1;32m----> 1\u001b[0m df_customers \u001b[38;5;241m=\u001b[39m \u001b[43mpd\u001b[49m\u001b[38;5;241;43m.\u001b[39;49m\u001b[43mread_csv\u001b[49m\u001b[43m(\u001b[49m\u001b[38;5;124;43mr\u001b[39;49m\u001b[38;5;124;43m\"\u001b[39;49m\u001b[38;5;124;43mC:\u001b[39;49m\u001b[38;5;124;43m\\\u001b[39;49m\u001b[38;5;124;43mUsers\u001b[39;49m\u001b[38;5;124;43m\\\u001b[39;49m\u001b[38;5;124;43mVIVEK KUMAR\u001b[39;49m\u001b[38;5;124;43m\\\u001b[39;49m\u001b[38;5;124;43mcredit risk modelling\u001b[39;49m\u001b[38;5;124;43m\\\u001b[39;49m\u001b[38;5;124;43mdatasets\u001b[39;49m\u001b[38;5;124;43m\\\u001b[39;49m\u001b[38;5;124;43mcustomers.csv\u001b[39;49m\u001b[38;5;124;43m\"\u001b[39;49m\u001b[43m)\u001b[49m\n\u001b[0;32m      2\u001b[0m df_loans \u001b[38;5;241m=\u001b[39m pd\u001b[38;5;241m.\u001b[39mread_csv(\u001b[38;5;124mr\u001b[39m\u001b[38;5;124m\"\u001b[39m\u001b[38;5;124mC:\u001b[39m\u001b[38;5;124m\\\u001b[39m\u001b[38;5;124mUsers\u001b[39m\u001b[38;5;124m\\\u001b[39m\u001b[38;5;124mVIVEK KUMAR\u001b[39m\u001b[38;5;124m\\\u001b[39m\u001b[38;5;124mcredit risk modelling\u001b[39m\u001b[38;5;124m\\\u001b[39m\u001b[38;5;124mdatasets\u001b[39m\u001b[38;5;124m\\\u001b[39m\u001b[38;5;124mloans.csv\u001b[39m\u001b[38;5;124m\"\u001b[39m)\n\u001b[0;32m      3\u001b[0m df_bureau \u001b[38;5;241m=\u001b[39m pd\u001b[38;5;241m.\u001b[39mread_csv(\u001b[38;5;124mr\u001b[39m\u001b[38;5;124m\"\u001b[39m\u001b[38;5;124mC:\u001b[39m\u001b[38;5;124m\\\u001b[39m\u001b[38;5;124mUsers\u001b[39m\u001b[38;5;124m\\\u001b[39m\u001b[38;5;124mVIVEK KUMAR\u001b[39m\u001b[38;5;124m\\\u001b[39m\u001b[38;5;124mcredit risk modelling\u001b[39m\u001b[38;5;124m\\\u001b[39m\u001b[38;5;124mdatasets\u001b[39m\u001b[38;5;124m\\\u001b[39m\u001b[38;5;124mbureau_data.csv\u001b[39m\u001b[38;5;124m\"\u001b[39m)\n",
      "File \u001b[1;32m~\\AppData\\Local\\Programs\\Python\\Python310\\lib\\site-packages\\pandas\\io\\parsers\\readers.py:1026\u001b[0m, in \u001b[0;36mread_csv\u001b[1;34m(filepath_or_buffer, sep, delimiter, header, names, index_col, usecols, dtype, engine, converters, true_values, false_values, skipinitialspace, skiprows, skipfooter, nrows, na_values, keep_default_na, na_filter, verbose, skip_blank_lines, parse_dates, infer_datetime_format, keep_date_col, date_parser, date_format, dayfirst, cache_dates, iterator, chunksize, compression, thousands, decimal, lineterminator, quotechar, quoting, doublequote, escapechar, comment, encoding, encoding_errors, dialect, on_bad_lines, delim_whitespace, low_memory, memory_map, float_precision, storage_options, dtype_backend)\u001b[0m\n\u001b[0;32m   1013\u001b[0m kwds_defaults \u001b[38;5;241m=\u001b[39m _refine_defaults_read(\n\u001b[0;32m   1014\u001b[0m     dialect,\n\u001b[0;32m   1015\u001b[0m     delimiter,\n\u001b[1;32m   (...)\u001b[0m\n\u001b[0;32m   1022\u001b[0m     dtype_backend\u001b[38;5;241m=\u001b[39mdtype_backend,\n\u001b[0;32m   1023\u001b[0m )\n\u001b[0;32m   1024\u001b[0m kwds\u001b[38;5;241m.\u001b[39mupdate(kwds_defaults)\n\u001b[1;32m-> 1026\u001b[0m \u001b[38;5;28;01mreturn\u001b[39;00m \u001b[43m_read\u001b[49m\u001b[43m(\u001b[49m\u001b[43mfilepath_or_buffer\u001b[49m\u001b[43m,\u001b[49m\u001b[43m \u001b[49m\u001b[43mkwds\u001b[49m\u001b[43m)\u001b[49m\n",
      "File \u001b[1;32m~\\AppData\\Local\\Programs\\Python\\Python310\\lib\\site-packages\\pandas\\io\\parsers\\readers.py:620\u001b[0m, in \u001b[0;36m_read\u001b[1;34m(filepath_or_buffer, kwds)\u001b[0m\n\u001b[0;32m    617\u001b[0m _validate_names(kwds\u001b[38;5;241m.\u001b[39mget(\u001b[38;5;124m\"\u001b[39m\u001b[38;5;124mnames\u001b[39m\u001b[38;5;124m\"\u001b[39m, \u001b[38;5;28;01mNone\u001b[39;00m))\n\u001b[0;32m    619\u001b[0m \u001b[38;5;66;03m# Create the parser.\u001b[39;00m\n\u001b[1;32m--> 620\u001b[0m parser \u001b[38;5;241m=\u001b[39m TextFileReader(filepath_or_buffer, \u001b[38;5;241m*\u001b[39m\u001b[38;5;241m*\u001b[39mkwds)\n\u001b[0;32m    622\u001b[0m \u001b[38;5;28;01mif\u001b[39;00m chunksize \u001b[38;5;129;01mor\u001b[39;00m iterator:\n\u001b[0;32m    623\u001b[0m     \u001b[38;5;28;01mreturn\u001b[39;00m parser\n",
      "File \u001b[1;32m~\\AppData\\Local\\Programs\\Python\\Python310\\lib\\site-packages\\pandas\\io\\parsers\\readers.py:1620\u001b[0m, in \u001b[0;36mTextFileReader.__init__\u001b[1;34m(self, f, engine, **kwds)\u001b[0m\n\u001b[0;32m   1617\u001b[0m     \u001b[38;5;28mself\u001b[39m\u001b[38;5;241m.\u001b[39moptions[\u001b[38;5;124m\"\u001b[39m\u001b[38;5;124mhas_index_names\u001b[39m\u001b[38;5;124m\"\u001b[39m] \u001b[38;5;241m=\u001b[39m kwds[\u001b[38;5;124m\"\u001b[39m\u001b[38;5;124mhas_index_names\u001b[39m\u001b[38;5;124m\"\u001b[39m]\n\u001b[0;32m   1619\u001b[0m \u001b[38;5;28mself\u001b[39m\u001b[38;5;241m.\u001b[39mhandles: IOHandles \u001b[38;5;241m|\u001b[39m \u001b[38;5;28;01mNone\u001b[39;00m \u001b[38;5;241m=\u001b[39m \u001b[38;5;28;01mNone\u001b[39;00m\n\u001b[1;32m-> 1620\u001b[0m \u001b[38;5;28mself\u001b[39m\u001b[38;5;241m.\u001b[39m_engine \u001b[38;5;241m=\u001b[39m \u001b[38;5;28;43mself\u001b[39;49m\u001b[38;5;241;43m.\u001b[39;49m\u001b[43m_make_engine\u001b[49m\u001b[43m(\u001b[49m\u001b[43mf\u001b[49m\u001b[43m,\u001b[49m\u001b[43m \u001b[49m\u001b[38;5;28;43mself\u001b[39;49m\u001b[38;5;241;43m.\u001b[39;49m\u001b[43mengine\u001b[49m\u001b[43m)\u001b[49m\n",
      "File \u001b[1;32m~\\AppData\\Local\\Programs\\Python\\Python310\\lib\\site-packages\\pandas\\io\\parsers\\readers.py:1880\u001b[0m, in \u001b[0;36mTextFileReader._make_engine\u001b[1;34m(self, f, engine)\u001b[0m\n\u001b[0;32m   1878\u001b[0m     \u001b[38;5;28;01mif\u001b[39;00m \u001b[38;5;124m\"\u001b[39m\u001b[38;5;124mb\u001b[39m\u001b[38;5;124m\"\u001b[39m \u001b[38;5;129;01mnot\u001b[39;00m \u001b[38;5;129;01min\u001b[39;00m mode:\n\u001b[0;32m   1879\u001b[0m         mode \u001b[38;5;241m+\u001b[39m\u001b[38;5;241m=\u001b[39m \u001b[38;5;124m\"\u001b[39m\u001b[38;5;124mb\u001b[39m\u001b[38;5;124m\"\u001b[39m\n\u001b[1;32m-> 1880\u001b[0m \u001b[38;5;28mself\u001b[39m\u001b[38;5;241m.\u001b[39mhandles \u001b[38;5;241m=\u001b[39m \u001b[43mget_handle\u001b[49m\u001b[43m(\u001b[49m\n\u001b[0;32m   1881\u001b[0m \u001b[43m    \u001b[49m\u001b[43mf\u001b[49m\u001b[43m,\u001b[49m\n\u001b[0;32m   1882\u001b[0m \u001b[43m    \u001b[49m\u001b[43mmode\u001b[49m\u001b[43m,\u001b[49m\n\u001b[0;32m   1883\u001b[0m \u001b[43m    \u001b[49m\u001b[43mencoding\u001b[49m\u001b[38;5;241;43m=\u001b[39;49m\u001b[38;5;28;43mself\u001b[39;49m\u001b[38;5;241;43m.\u001b[39;49m\u001b[43moptions\u001b[49m\u001b[38;5;241;43m.\u001b[39;49m\u001b[43mget\u001b[49m\u001b[43m(\u001b[49m\u001b[38;5;124;43m\"\u001b[39;49m\u001b[38;5;124;43mencoding\u001b[39;49m\u001b[38;5;124;43m\"\u001b[39;49m\u001b[43m,\u001b[49m\u001b[43m \u001b[49m\u001b[38;5;28;43;01mNone\u001b[39;49;00m\u001b[43m)\u001b[49m\u001b[43m,\u001b[49m\n\u001b[0;32m   1884\u001b[0m \u001b[43m    \u001b[49m\u001b[43mcompression\u001b[49m\u001b[38;5;241;43m=\u001b[39;49m\u001b[38;5;28;43mself\u001b[39;49m\u001b[38;5;241;43m.\u001b[39;49m\u001b[43moptions\u001b[49m\u001b[38;5;241;43m.\u001b[39;49m\u001b[43mget\u001b[49m\u001b[43m(\u001b[49m\u001b[38;5;124;43m\"\u001b[39;49m\u001b[38;5;124;43mcompression\u001b[39;49m\u001b[38;5;124;43m\"\u001b[39;49m\u001b[43m,\u001b[49m\u001b[43m \u001b[49m\u001b[38;5;28;43;01mNone\u001b[39;49;00m\u001b[43m)\u001b[49m\u001b[43m,\u001b[49m\n\u001b[0;32m   1885\u001b[0m \u001b[43m    \u001b[49m\u001b[43mmemory_map\u001b[49m\u001b[38;5;241;43m=\u001b[39;49m\u001b[38;5;28;43mself\u001b[39;49m\u001b[38;5;241;43m.\u001b[39;49m\u001b[43moptions\u001b[49m\u001b[38;5;241;43m.\u001b[39;49m\u001b[43mget\u001b[49m\u001b[43m(\u001b[49m\u001b[38;5;124;43m\"\u001b[39;49m\u001b[38;5;124;43mmemory_map\u001b[39;49m\u001b[38;5;124;43m\"\u001b[39;49m\u001b[43m,\u001b[49m\u001b[43m \u001b[49m\u001b[38;5;28;43;01mFalse\u001b[39;49;00m\u001b[43m)\u001b[49m\u001b[43m,\u001b[49m\n\u001b[0;32m   1886\u001b[0m \u001b[43m    \u001b[49m\u001b[43mis_text\u001b[49m\u001b[38;5;241;43m=\u001b[39;49m\u001b[43mis_text\u001b[49m\u001b[43m,\u001b[49m\n\u001b[0;32m   1887\u001b[0m \u001b[43m    \u001b[49m\u001b[43merrors\u001b[49m\u001b[38;5;241;43m=\u001b[39;49m\u001b[38;5;28;43mself\u001b[39;49m\u001b[38;5;241;43m.\u001b[39;49m\u001b[43moptions\u001b[49m\u001b[38;5;241;43m.\u001b[39;49m\u001b[43mget\u001b[49m\u001b[43m(\u001b[49m\u001b[38;5;124;43m\"\u001b[39;49m\u001b[38;5;124;43mencoding_errors\u001b[39;49m\u001b[38;5;124;43m\"\u001b[39;49m\u001b[43m,\u001b[49m\u001b[43m \u001b[49m\u001b[38;5;124;43m\"\u001b[39;49m\u001b[38;5;124;43mstrict\u001b[39;49m\u001b[38;5;124;43m\"\u001b[39;49m\u001b[43m)\u001b[49m\u001b[43m,\u001b[49m\n\u001b[0;32m   1888\u001b[0m \u001b[43m    \u001b[49m\u001b[43mstorage_options\u001b[49m\u001b[38;5;241;43m=\u001b[39;49m\u001b[38;5;28;43mself\u001b[39;49m\u001b[38;5;241;43m.\u001b[39;49m\u001b[43moptions\u001b[49m\u001b[38;5;241;43m.\u001b[39;49m\u001b[43mget\u001b[49m\u001b[43m(\u001b[49m\u001b[38;5;124;43m\"\u001b[39;49m\u001b[38;5;124;43mstorage_options\u001b[39;49m\u001b[38;5;124;43m\"\u001b[39;49m\u001b[43m,\u001b[49m\u001b[43m \u001b[49m\u001b[38;5;28;43;01mNone\u001b[39;49;00m\u001b[43m)\u001b[49m\u001b[43m,\u001b[49m\n\u001b[0;32m   1889\u001b[0m \u001b[43m\u001b[49m\u001b[43m)\u001b[49m\n\u001b[0;32m   1890\u001b[0m \u001b[38;5;28;01massert\u001b[39;00m \u001b[38;5;28mself\u001b[39m\u001b[38;5;241m.\u001b[39mhandles \u001b[38;5;129;01mis\u001b[39;00m \u001b[38;5;129;01mnot\u001b[39;00m \u001b[38;5;28;01mNone\u001b[39;00m\n\u001b[0;32m   1891\u001b[0m f \u001b[38;5;241m=\u001b[39m \u001b[38;5;28mself\u001b[39m\u001b[38;5;241m.\u001b[39mhandles\u001b[38;5;241m.\u001b[39mhandle\n",
      "File \u001b[1;32m~\\AppData\\Local\\Programs\\Python\\Python310\\lib\\site-packages\\pandas\\io\\common.py:873\u001b[0m, in \u001b[0;36mget_handle\u001b[1;34m(path_or_buf, mode, encoding, compression, memory_map, is_text, errors, storage_options)\u001b[0m\n\u001b[0;32m    868\u001b[0m \u001b[38;5;28;01melif\u001b[39;00m \u001b[38;5;28misinstance\u001b[39m(handle, \u001b[38;5;28mstr\u001b[39m):\n\u001b[0;32m    869\u001b[0m     \u001b[38;5;66;03m# Check whether the filename is to be opened in binary mode.\u001b[39;00m\n\u001b[0;32m    870\u001b[0m     \u001b[38;5;66;03m# Binary mode does not support 'encoding' and 'newline'.\u001b[39;00m\n\u001b[0;32m    871\u001b[0m     \u001b[38;5;28;01mif\u001b[39;00m ioargs\u001b[38;5;241m.\u001b[39mencoding \u001b[38;5;129;01mand\u001b[39;00m \u001b[38;5;124m\"\u001b[39m\u001b[38;5;124mb\u001b[39m\u001b[38;5;124m\"\u001b[39m \u001b[38;5;129;01mnot\u001b[39;00m \u001b[38;5;129;01min\u001b[39;00m ioargs\u001b[38;5;241m.\u001b[39mmode:\n\u001b[0;32m    872\u001b[0m         \u001b[38;5;66;03m# Encoding\u001b[39;00m\n\u001b[1;32m--> 873\u001b[0m         handle \u001b[38;5;241m=\u001b[39m \u001b[38;5;28;43mopen\u001b[39;49m\u001b[43m(\u001b[49m\n\u001b[0;32m    874\u001b[0m \u001b[43m            \u001b[49m\u001b[43mhandle\u001b[49m\u001b[43m,\u001b[49m\n\u001b[0;32m    875\u001b[0m \u001b[43m            \u001b[49m\u001b[43mioargs\u001b[49m\u001b[38;5;241;43m.\u001b[39;49m\u001b[43mmode\u001b[49m\u001b[43m,\u001b[49m\n\u001b[0;32m    876\u001b[0m \u001b[43m            \u001b[49m\u001b[43mencoding\u001b[49m\u001b[38;5;241;43m=\u001b[39;49m\u001b[43mioargs\u001b[49m\u001b[38;5;241;43m.\u001b[39;49m\u001b[43mencoding\u001b[49m\u001b[43m,\u001b[49m\n\u001b[0;32m    877\u001b[0m \u001b[43m            \u001b[49m\u001b[43merrors\u001b[49m\u001b[38;5;241;43m=\u001b[39;49m\u001b[43merrors\u001b[49m\u001b[43m,\u001b[49m\n\u001b[0;32m    878\u001b[0m \u001b[43m            \u001b[49m\u001b[43mnewline\u001b[49m\u001b[38;5;241;43m=\u001b[39;49m\u001b[38;5;124;43m\"\u001b[39;49m\u001b[38;5;124;43m\"\u001b[39;49m\u001b[43m,\u001b[49m\n\u001b[0;32m    879\u001b[0m \u001b[43m        \u001b[49m\u001b[43m)\u001b[49m\n\u001b[0;32m    880\u001b[0m     \u001b[38;5;28;01melse\u001b[39;00m:\n\u001b[0;32m    881\u001b[0m         \u001b[38;5;66;03m# Binary mode\u001b[39;00m\n\u001b[0;32m    882\u001b[0m         handle \u001b[38;5;241m=\u001b[39m \u001b[38;5;28mopen\u001b[39m(handle, ioargs\u001b[38;5;241m.\u001b[39mmode)\n",
      "\u001b[1;31mFileNotFoundError\u001b[0m: [Errno 2] No such file or directory: 'C:\\\\Users\\\\VIVEK KUMAR\\\\credit risk modelling\\\\datasets\\\\customers.csv'"
     ]
    }
   ],
   "source": [
    "df_customers = pd.read_csv(r\"C:\\Users\\VIVEK KUMAR\\credit risk modelling\\datasets\\customers.csv\")\n",
    "df_loans = pd.read_csv(r\"C:\\Users\\VIVEK KUMAR\\credit risk modelling\\datasets\\loans.csv\")\n",
    "df_bureau = pd.read_csv(r\"C:\\Users\\VIVEK KUMAR\\credit risk modelling\\datasets\\bureau_data.csv\")"
   ]
  },
  {
   "cell_type": "code",
   "execution_count": null,
   "id": "e7551754-61a4-4f9b-b6e5-007dfab5f325",
   "metadata": {},
   "outputs": [],
   "source": [
    "df_customers.shape, df_loans.shape, df_bureau.shape"
   ]
  },
  {
   "cell_type": "code",
   "execution_count": null,
   "id": "bd47431b-a2eb-447b-a5c6-2e908ac50efe",
   "metadata": {},
   "outputs": [],
   "source": [
    "df_customers.head(3)"
   ]
  },
  {
   "cell_type": "code",
   "execution_count": null,
   "id": "885b382e-f066-40f3-8944-67364461751b",
   "metadata": {},
   "outputs": [],
   "source": [
    "df_loans.head(3)"
   ]
  },
  {
   "cell_type": "code",
   "execution_count": null,
   "id": "28d1e47b-c47d-445b-a6aa-b62e750e37e5",
   "metadata": {},
   "outputs": [],
   "source": [
    "df_bureau.head(3)"
   ]
  },
  {
   "cell_type": "code",
   "execution_count": null,
   "id": "acae8914-c7f0-41a2-bd1c-4f81344ef761",
   "metadata": {},
   "outputs": [],
   "source": [
    "df = pd.merge(df_customers, df_loans, on='cust_id')\n",
    "df.head(3)"
   ]
  },
  {
   "cell_type": "code",
   "execution_count": null,
   "id": "4eee7b94-baaa-479f-a4bd-ad97001e474a",
   "metadata": {},
   "outputs": [],
   "source": [
    "df = pd.merge(df, df_bureau, on='cust_id')\n",
    "df.head(3)"
   ]
  },
  {
   "cell_type": "code",
   "execution_count": null,
   "id": "3f98531c-3830-4a64-87e2-9e842aebf737",
   "metadata": {},
   "outputs": [],
   "source": [
    "df['default'] = df['default'].astype(int)\n",
    "df.default.value_counts()"
   ]
  },
  {
   "cell_type": "code",
   "execution_count": null,
   "id": "dedf712a-640b-42b6-94ae-42d67a519b8c",
   "metadata": {},
   "outputs": [],
   "source": [
    "X = df.drop(\"default\", axis=\"columns\")\n",
    "y = df['default']\n",
    "\n",
    "X_train,X_test,y_train,y_test=train_test_split(X,y,stratify=y,test_size=0.25,random_state=42)\n",
    "\n",
    "df_train = pd.concat([X_train, y_train], axis=\"columns\")\n",
    "df_test = pd.concat([X_test, y_test], axis=\"columns\")\n",
    "\n",
    "df_train.head(2)"
   ]
  },
  {
   "cell_type": "code",
   "execution_count": null,
   "id": "e3ecdbe4-4fd8-4b9f-82d3-6f48067532a1",
   "metadata": {},
   "outputs": [],
   "source": [
    "df_train.shape"
   ]
  },
  {
   "cell_type": "code",
   "execution_count": null,
   "id": "9708f67f-b7a1-4b8a-9386-f1d1a1f09826",
   "metadata": {},
   "outputs": [],
   "source": [
    "df_train.isna().sum()"
   ]
  },
  {
   "cell_type": "code",
   "execution_count": null,
   "id": "ca3db484-d438-48a8-a42f-de0fff5eae9b",
   "metadata": {},
   "outputs": [],
   "source": [
    "df_train.residence_type.unique()"
   ]
  },
  {
   "cell_type": "code",
   "execution_count": null,
   "id": "bccce7c0-45f9-4759-9535-29de162c1804",
   "metadata": {},
   "outputs": [],
   "source": [
    "mode_residence = df_train.residence_type.mode()[0]\n",
    "mode_residence"
   ]
  },
  {
   "cell_type": "code",
   "execution_count": null,
   "id": "147c0338-4a7a-4568-b4e1-f3450df4c400",
   "metadata": {},
   "outputs": [],
   "source": [
    "df_train.residence_type.fillna(mode_residence, inplace=True)\n",
    "df_test.residence_type.fillna(mode_residence, inplace=True)\n",
    "\n",
    "df_train.residence_type.unique(), df_test.residence_type.unique()"
   ]
  },
  {
   "cell_type": "code",
   "execution_count": null,
   "id": "432dc3bd-b580-4b96-bb5c-cae00a880bd8",
   "metadata": {},
   "outputs": [],
   "source": [
    "df_train.duplicated().sum()"
   ]
  },
  {
   "cell_type": "code",
   "execution_count": null,
   "id": "b60aa0cd-58b5-4c43-aa9d-2907fa62a192",
   "metadata": {},
   "outputs": [],
   "source": [
    "df_train.describe()"
   ]
  },
  {
   "cell_type": "code",
   "execution_count": null,
   "id": "3994cdd1-41fd-4b7d-a0fa-6ab940e0d9bb",
   "metadata": {},
   "outputs": [],
   "source": [
    "df_train.columns"
   ]
  },
  {
   "cell_type": "code",
   "execution_count": null,
   "id": "75cba6cb-adb2-4172-aa42-a4f9cdb9d946",
   "metadata": {},
   "outputs": [],
   "source": [
    "columns_continuous = ['age', 'income', 'number_of_dependants', 'years_at_current_address',\n",
    "                      'sanction_amount', 'loan_amount', 'processing_fee', 'gst', 'net_disbursement',\n",
    "                      'loan_tenure_months','principal_outstanding', 'bank_balance_at_application',\n",
    "                      'number_of_open_accounts','number_of_closed_accounts', 'total_loan_months', 'delinquent_months',\n",
    "                       'total_dpd', 'enquiry_count', 'credit_utilization_ratio']\n",
    "\n",
    "columns_categorical = ['gender', 'marital_status', 'employment_status', 'residence_type', 'city',\n",
    "                       'state', 'zipcode', 'loan_purpose', 'loan_type', 'default']"
   ]
  },
  {
   "cell_type": "code",
   "execution_count": null,
   "id": "6a5b0111-ee85-47f3-b32e-afbf8fa5900f",
   "metadata": {},
   "outputs": [],
   "source": [
    "num_plots = len(columns_continuous)\n",
    "num_cols = 4  # Number of plots per row\n",
    "num_rows = (num_plots + num_cols - 1) // num_cols  # Calculate the number of rows needed\n",
    "\n",
    "fig, axes = plt.subplots(num_rows, num_cols, figsize=(5 * num_cols, 5 * num_rows))  # Adjust the figure size as needed\n",
    "axes = axes.flatten()  # Flatten the axes array for easier indexing\n",
    "\n",
    "for i, col in enumerate(columns_continuous):\n",
    "    sns.boxplot(x=df_train[col], ax=axes[i])\n",
    "    axes[i].set_title(col)  # Set the title to the name of the variable\n",
    "\n",
    "# If there are any empty plots (if the number of plots isn't a perfect multiple of num_cols), hide the axes\n",
    "for j in range(i + 1, num_rows * num_cols):\n",
    "    axes[j].axis('off')\n",
    "\n",
    "plt.tight_layout()\n",
    "plt.show()"
   ]
  },
  {
   "cell_type": "code",
   "execution_count": null,
   "id": "8ca5591e-0edb-4878-8e80-7b6787403059",
   "metadata": {},
   "outputs": [],
   "source": [
    "num_plots = len(columns_continuous)\n",
    "num_cols = 4  # Number of plots per row\n",
    "num_rows = (num_plots + num_cols - 1) // num_cols  # Calculate the number of rows needed\n",
    "\n",
    "fig, axes = plt.subplots(num_rows, num_cols, figsize=(5 * num_cols, 5 * num_rows))  # Adjust the figure size as needed\n",
    "axes = axes.flatten()  # Flatten the axes array for easier indexing\n",
    "\n",
    "for i, col in enumerate(columns_continuous):\n",
    "    sns.histplot(df_train[col], ax=axes[i])\n",
    "    axes[i].set_title(col)  # Set the title to the name of the variable\n",
    "\n",
    "# If there are any empty plots (if the number of plots isn't a perfect multiple of num_cols), hide the axes\n",
    "for j in range(i + 1, num_rows * num_cols):\n",
    "    axes[j].axis('off')\n",
    "\n",
    "plt.tight_layout()\n",
    "plt.show()"
   ]
  },
  {
   "cell_type": "code",
   "execution_count": null,
   "id": "746318fb-9ae8-4b8c-91c2-da86d702e992",
   "metadata": {},
   "outputs": [],
   "source": [
    "df_train.processing_fee.describe()"
   ]
  },
  {
   "cell_type": "code",
   "execution_count": null,
   "id": "31fcf960-ad26-4d28-ac35-7eb5c2125274",
   "metadata": {},
   "outputs": [],
   "source": [
    "df_train[(df_train.processing_fee/df_train.loan_amount)>0.03][[\"loan_amount\",\"processing_fee\"]]"
   ]
  },
  {
   "cell_type": "code",
   "execution_count": null,
   "id": "99cb7ad6-33d2-44fb-adea-1069ca7d3d42",
   "metadata": {},
   "outputs": [],
   "source": [
    "df_train_1 = df_train[df_train.processing_fee/df_train.loan_amount<0.03].copy()\n",
    "df_train_1.shape"
   ]
  },
  {
   "cell_type": "code",
   "execution_count": null,
   "id": "4b0cb418-5d40-4369-a183-bccbed0f8b43",
   "metadata": {},
   "outputs": [],
   "source": [
    "df_test.residence_type.isna().sum()"
   ]
  },
  {
   "cell_type": "code",
   "execution_count": null,
   "id": "f4365d44-9f17-41d3-bf99-8d951223d0d7",
   "metadata": {},
   "outputs": [],
   "source": [
    "df_test = df_test[df_test.processing_fee/df_test.loan_amount<0.03].copy()\n",
    "df_test.shape"
   ]
  },
  {
   "cell_type": "code",
   "execution_count": null,
   "id": "6f10c283-e1ca-46d4-a6c5-aa8bed24fe89",
   "metadata": {},
   "outputs": [],
   "source": [
    "df_train_1[(df_train_1.gst/df_train_1.loan_amount)>0.2].shape"
   ]
  },
  {
   "cell_type": "code",
   "execution_count": null,
   "id": "27b9893e-f9f5-479a-8bf6-eca31785321c",
   "metadata": {},
   "outputs": [],
   "source": [
    "df_train_1[df_train_1.net_disbursement>df_train_1.loan_amount].shape"
   ]
  },
  {
   "cell_type": "code",
   "execution_count": null,
   "id": "0943e2a7-7817-4a8d-a8a8-7323ecbcf1d7",
   "metadata": {},
   "outputs": [],
   "source": [
    "columns_categorical"
   ]
  },
  {
   "cell_type": "code",
   "execution_count": null,
   "id": "fa1b7069-1c39-4fa4-8741-1c6deb6a49ce",
   "metadata": {},
   "outputs": [],
   "source": [
    "for col in columns_categorical:\n",
    "    print(col, \"-->\", df_train_1[col].unique())"
   ]
  },
  {
   "cell_type": "code",
   "execution_count": null,
   "id": "cc9ef3c0-a2c8-43bd-9461-a369b6fcb064",
   "metadata": {},
   "outputs": [],
   "source": [
    "df_train_1['loan_purpose'] = df_train_1['loan_purpose'].replace('Personaal', 'Personal')\n",
    "df_train_1['loan_purpose'].unique()"
   ]
  },
  {
   "cell_type": "code",
   "execution_count": null,
   "id": "b8ddfae1-c20e-4afa-95d8-ce9933aefb71",
   "metadata": {},
   "outputs": [],
   "source": [
    "df_test['loan_purpose'] = df_test['loan_purpose'].replace('Personaal', 'Personal')\n",
    "df_test['loan_purpose'].unique()"
   ]
  },
  {
   "cell_type": "code",
   "execution_count": null,
   "id": "ad354229-8264-439b-92dc-4e6b6fbebaa4",
   "metadata": {},
   "outputs": [],
   "source": [
    "columns_continuous"
   ]
  },
  {
   "cell_type": "code",
   "execution_count": null,
   "id": "87cb0efb-144e-496b-8dc5-c58e84ddaa36",
   "metadata": {},
   "outputs": [],
   "source": [
    "df_train_1.groupby(\"default\")['age'].describe()"
   ]
  },
  {
   "cell_type": "code",
   "execution_count": null,
   "id": "16feec89-7420-4a72-862b-84442e934f0f",
   "metadata": {},
   "outputs": [],
   "source": [
    "plt.figure(figsize=(8, 4))\n",
    "sns.kdeplot(df_train_1['age'][df_train_1['default'] == 0], fill=True, label='default=0')\n",
    "sns.kdeplot(df_train_1['age'][df_train_1['default'] == 1], fill=True, label='default=1')\n",
    "plt.title(f\"Age KDE Plot with Hue by default\")\n",
    "plt.legend()\n",
    "plt.show()"
   ]
  },
  {
   "cell_type": "code",
   "execution_count": null,
   "id": "3cf0299c-7667-4ac6-8655-4af2eefffc25",
   "metadata": {},
   "outputs": [],
   "source": [
    "plt.figure(figsize=(24, 20))  # Width, height in inches\n",
    "\n",
    "for i, col in enumerate(columns_continuous):\n",
    "    plt.subplot(6, 4, i+1)  # 1 row, 4 columns, ith subplot\n",
    "    sns.kdeplot(df_train_1[col][df_train_1['default']==0], fill=True, label='default=0')\n",
    "    sns.kdeplot(df_train_1[col][df_train_1['default']==1], fill=True, label='default=1')\n",
    "    plt.title(col)\n",
    "    plt.xlabel('')\n",
    "\n",
    "plt.tight_layout()\n",
    "plt.show()"
   ]
  },
  {
   "cell_type": "code",
   "execution_count": null,
   "id": "67794838-ddf8-47c1-8d9f-14a83ae578ba",
   "metadata": {},
   "outputs": [],
   "source": [
    "df_train_1[[\"loan_amount\", \"income\"]].head(3)"
   ]
  },
  {
   "cell_type": "code",
   "execution_count": null,
   "id": "695ede48-b2fb-4ee6-9a20-897910031993",
   "metadata": {},
   "outputs": [],
   "source": [
    "df_train_1['loan_to_income'] = round(df_train_1['loan_amount'] / df_train_1['income'],2)\n",
    "df_train_1['loan_to_income'].describe()"
   ]
  },
  {
   "cell_type": "code",
   "execution_count": null,
   "id": "429bda7d-fd43-4169-9e37-b94eaa88ad9b",
   "metadata": {},
   "outputs": [],
   "source": [
    "df_test['loan_to_income'] = round(df_test['loan_amount'] / df_test['income'],2)"
   ]
  },
  {
   "cell_type": "code",
   "execution_count": null,
   "id": "f57f30e4-a007-4a9c-996e-10e37f3035fb",
   "metadata": {},
   "outputs": [],
   "source": [
    "plt.figure(figsize=(8, 4))\n",
    "sns.kdeplot(df_train_1['loan_to_income'][df_train_1['default'] == 0], fill=True, label='default=0')\n",
    "sns.kdeplot(df_train_1['loan_to_income'][df_train_1['default'] == 1], fill=True, label='default=1')\n",
    "plt.title(f\"Loan to Income Ratio (LTI) KDE Plot with Hue by default\")\n",
    "plt.legend()\n",
    "plt.show()"
   ]
  },
  {
   "cell_type": "code",
   "execution_count": null,
   "id": "c3f727de-1686-4d1e-9766-331a968841fc",
   "metadata": {},
   "outputs": [],
   "source": [
    "df_train_1['delinquency_ratio'] = (df_train_1['delinquent_months']*100 / df_train_1['total_loan_months']).round(1)\n",
    "df_test['delinquency_ratio'] = (df_test['delinquent_months']*100 / df_test['total_loan_months']).round(1)"
   ]
  },
  {
   "cell_type": "code",
   "execution_count": null,
   "id": "4b9e4d46-b5ae-4d1c-85af-2e99cb938f47",
   "metadata": {},
   "outputs": [],
   "source": [
    "plt.figure(figsize=(8, 4))\n",
    "sns.kdeplot(df_train_1['delinquency_ratio'][df_train_1['default'] == 0], fill=True, label='default=0')\n",
    "sns.kdeplot(df_train_1['delinquency_ratio'][df_train_1['default'] == 1], fill=True, label='default=1')\n",
    "plt.title(f\"Delinquency Ratio KDE Plot with Hue by default\")\n",
    "plt.legend()\n",
    "plt.show()"
   ]
  },
  {
   "cell_type": "code",
   "execution_count": null,
   "id": "80b8379c-5b1b-43c2-978d-a408f5310cd6",
   "metadata": {},
   "outputs": [],
   "source": [
    "df_train_1['avg_dpd_per_delinquency'] = np.where(\n",
    "    df_train_1['delinquent_months'] != 0,\n",
    "    (df_train_1['total_dpd'] / df_train_1['delinquent_months']).round(1),\n",
    "    0\n",
    ")\n",
    "\n",
    "df_test['avg_dpd_per_delinquency'] = np.where(\n",
    "    df_test['delinquent_months'] != 0,\n",
    "    (df_test['total_dpd'] / df_test['delinquent_months']).round(1),\n",
    "    0\n",
    ")"
   ]
  },
  {
   "cell_type": "code",
   "execution_count": null,
   "id": "59f74d57-3781-4ad8-9929-4b866055e5d6",
   "metadata": {},
   "outputs": [],
   "source": [
    "plt.figure(figsize=(8, 4))\n",
    "sns.kdeplot(df_train_1['avg_dpd_per_delinquency'][df_train_1['default'] == 0], fill=True, label='default=0')\n",
    "sns.kdeplot(df_train_1['avg_dpd_per_delinquency'][df_train_1['default'] == 1], fill=True, label='default=1')\n",
    "plt.title(f\"Avg DPD Per Delinquency Ratio KDE Plot with Hue by default\")\n",
    "plt.legend()\n",
    "plt.show()"
   ]
  },
  {
   "cell_type": "code",
   "execution_count": null,
   "id": "3bebf0eb-12fb-4c94-899d-d47fcb9031e6",
   "metadata": {},
   "outputs": [],
   "source": [
    "df_train_1.columns"
   ]
  },
  {
   "cell_type": "code",
   "execution_count": null,
   "id": "3d698654-420c-4f8c-abd0-89e318017364",
   "metadata": {},
   "outputs": [],
   "source": [
    "df_train_2 = df_train_1.drop(['cust_id', 'loan_id'],axis=\"columns\")\n",
    "df_test = df_test.drop(['cust_id', 'loan_id'], axis=\"columns\", errors='ignore')"
   ]
  },
  {
   "cell_type": "code",
   "execution_count": null,
   "id": "85c5793e-4a33-47b9-8a80-d3a05280b0a1",
   "metadata": {},
   "outputs": [],
   "source": [
    "df_train_3 = df_train_2.drop(['disbursal_date', 'installment_start_dt', 'loan_amount', 'income',\n",
    "                              'total_loan_months', 'delinquent_months', 'total_dpd'], axis=\"columns\")\n",
    "df_test = df_test.drop(['disbursal_date', 'installment_start_dt', 'loan_amount', 'income',\n",
    "                              'total_loan_months', 'delinquent_months', 'total_dpd'], axis=\"columns\")\n",
    "df_train_3.columns"
   ]
  },
  {
   "cell_type": "code",
   "execution_count": null,
   "id": "73ef794d-29e3-489e-9b27-ffd414e8baa6",
   "metadata": {},
   "outputs": [],
   "source": [
    "df_train_3.select_dtypes(['int64', 'float64']).columns"
   ]
  },
  {
   "cell_type": "code",
   "execution_count": null,
   "id": "af8b502e-2b44-49e9-a5d7-3d3bf8d2b0f5",
   "metadata": {},
   "outputs": [],
   "source": [
    "X_train = df_train_3.drop('default', axis='columns')\n",
    "y_train = df_train_3['default']\n",
    "\n",
    "from sklearn.preprocessing import MinMaxScaler\n",
    "\n",
    "cols_to_scale = X_train.select_dtypes(['int64', 'float64']).columns\n",
    "\n",
    "scaler = MinMaxScaler()\n",
    "\n",
    "X_train[cols_to_scale] = scaler.fit_transform(X_train[cols_to_scale])\n",
    "X_train.describe()"
   ]
  },
  {
   "cell_type": "code",
   "execution_count": null,
   "id": "f9a6c964-f764-4e1c-a04c-1cfb1412c687",
   "metadata": {},
   "outputs": [],
   "source": [
    "X_test = df_test.drop('default', axis='columns')\n",
    "y_test = df_test['default']\n",
    "\n",
    "X_test[cols_to_scale] = scaler.transform(X_test[cols_to_scale])\n",
    "X_test.describe()"
   ]
  },
  {
   "cell_type": "code",
   "execution_count": null,
   "id": "8a7479ba-07cc-4b6e-91e1-dc8d41d248ff",
   "metadata": {},
   "outputs": [],
   "source": [
    "from statsmodels.stats.outliers_influence import variance_inflation_factor\n",
    "\n",
    "def calculate_vif(data):\n",
    "    vif_df = pd.DataFrame()\n",
    "    vif_df['Column'] = data.columns\n",
    "    vif_df['VIF'] = [variance_inflation_factor(data.values,i) for i in range(data.shape[1])]\n",
    "    return vif_df"
   ]
  },
  {
   "cell_type": "code",
   "execution_count": null,
   "id": "eec806e9-b395-43e2-a324-4cf077b8ea37",
   "metadata": {},
   "outputs": [],
   "source": [
    "X_train.head(2)"
   ]
  },
  {
   "cell_type": "code",
   "execution_count": null,
   "id": "9aa81555-72ef-49de-9c3e-626f65d22446",
   "metadata": {},
   "outputs": [],
   "source": [
    "calculate_vif(X_train[cols_to_scale])"
   ]
  },
  {
   "cell_type": "code",
   "execution_count": null,
   "id": "7b763be7-622b-42a1-aba2-7b255be7e4c7",
   "metadata": {},
   "outputs": [],
   "source": [
    "features_to_drop_vif = ['sanction_amount', 'processing_fee', 'gst', 'net_disbursement','principal_outstanding']\n",
    "\n",
    "\n",
    "X_train_1 = X_train.drop(features_to_drop_vif, axis='columns')\n",
    "numeric_columns = X_train_1.select_dtypes(['int64', 'float64']).columns\n",
    "numeric_columns"
   ]
  },
  {
   "cell_type": "code",
   "execution_count": null,
   "id": "d409cec9-865c-40ec-96b6-03eb567919e8",
   "metadata": {},
   "outputs": [],
   "source": [
    "calculate_vif(X_train_1[numeric_columns])"
   ]
  },
  {
   "cell_type": "code",
   "execution_count": null,
   "id": "3561f2a9-aca0-4271-aa74-f0582b9143ab",
   "metadata": {},
   "outputs": [],
   "source": [
    "numeric_columns"
   ]
  },
  {
   "cell_type": "code",
   "execution_count": null,
   "id": "ac491f40-0a79-40a1-a596-1e29c8e1d307",
   "metadata": {},
   "outputs": [],
   "source": [
    "plt.figure(figsize=(12,12))\n",
    "cm = df_train_3[numeric_columns.append(pd.Index(['default']))].corr()\n",
    "sns.heatmap(cm, annot=True, fmt='0.2f')\n",
    "plt.xticks(rotation=45, ha='right')\n",
    "plt.yticks(rotation=0)\n",
    "plt.tight_layout()\n",
    "plt.show()"
   ]
  },
  {
   "cell_type": "code",
   "execution_count": null,
   "id": "2a694735-e30b-4169-819a-269797b5697d",
   "metadata": {},
   "outputs": [],
   "source": [
    "X_train_1.head()"
   ]
  },
  {
   "cell_type": "code",
   "execution_count": null,
   "id": "eae3c974-c9cd-4023-bdd8-7fbdbadc14cb",
   "metadata": {},
   "outputs": [],
   "source": [
    "def calculate_woe_iv(df, feature, target):\n",
    "    grouped = df.groupby(feature)[target].agg(['count','sum'])\n",
    "    grouped = grouped.rename(columns={'count': 'total', 'sum': 'good'})\n",
    "    grouped['bad']=grouped['total']-grouped['good']\n",
    "\n",
    "    total_good = grouped['good'].sum()\n",
    "    total_bad = grouped['bad'].sum()\n",
    "\n",
    "    grouped['good_pct'] = grouped['good'] / total_good\n",
    "    grouped['bad_pct'] = grouped['bad'] / total_bad\n",
    "    grouped['woe'] = np.log(grouped['good_pct']/ grouped['bad_pct'])\n",
    "    grouped['iv'] = (grouped['good_pct'] -grouped['bad_pct'])*grouped['woe']\n",
    "\n",
    "    grouped['woe'] = grouped['woe'].replace([np.inf, -np.inf], 0)\n",
    "    grouped['iv'] = grouped['iv'].replace([np.inf, -np.inf], 0)\n",
    "\n",
    "    total_iv = grouped['iv'].sum()\n",
    "\n",
    "    return grouped, total_iv\n",
    "\n",
    "grouped, total_iv = calculate_woe_iv(pd.concat([X_train_1, y_train],axis=1), 'loan_purpose', 'default')\n",
    "grouped"
   ]
  },
  {
   "cell_type": "code",
   "execution_count": null,
   "id": "60a187c7-31e5-434e-9f34-6f07e8e715b9",
   "metadata": {},
   "outputs": [],
   "source": [
    "X_train_1.info()"
   ]
  },
  {
   "cell_type": "code",
   "execution_count": null,
   "id": "f192d9c8-e1ce-4b02-b971-4ad3a2d775c3",
   "metadata": {},
   "outputs": [],
   "source": [
    "iv_values = {}\n",
    "\n",
    "for feature in X_train_1.columns:\n",
    "    if X_train_1[feature].dtype == 'object':\n",
    "        _, iv = calculate_woe_iv(pd.concat([X_train_1, y_train],axis=1), feature, 'default' )\n",
    "    else:\n",
    "        X_binned = pd.cut(X_train_1[feature], bins=10, labels=False)\n",
    "        _, iv = calculate_woe_iv(pd.concat([X_binned, y_train],axis=1), feature, 'default' )\n",
    "    iv_values[feature] = iv\n",
    "\n",
    "iv_values"
   ]
  },
  {
   "cell_type": "code",
   "execution_count": null,
   "id": "59f00161-31f3-48f2-ba95-3ba6f2ab0b30",
   "metadata": {},
   "outputs": [],
   "source": [
    "pd.set_option('display.float_format', lambda x: '{:.3f}'.format(x))\n",
    "\n",
    "iv_df = pd.DataFrame(list(iv_values.items()), columns=['Feature', 'IV'])\n",
    "iv_df = iv_df.sort_values(by='IV', ascending=False)\n",
    "iv_df"
   ]
  },
  {
   "cell_type": "code",
   "execution_count": null,
   "id": "9d84f367-2b96-4cf2-8d83-7e8d6a1d1417",
   "metadata": {},
   "outputs": [],
   "source": [
    "selected_features_iv = [feature for feature, iv in iv_values.items() if iv > 0.02]\n",
    "selected_features_iv"
   ]
  },
  {
   "cell_type": "code",
   "execution_count": null,
   "id": "2c20fd27-0790-495c-a549-f2421f07961b",
   "metadata": {},
   "outputs": [],
   "source": [
    "X_train_reduced = X_train_1[selected_features_iv]\n",
    "X_test_reduced = X_test[selected_features_iv]"
   ]
  },
  {
   "cell_type": "code",
   "execution_count": null,
   "id": "f9d2eaf9-b282-4231-8004-fd66949df68c",
   "metadata": {},
   "outputs": [],
   "source": [
    "X_train_encoded = pd.get_dummies(X_train_reduced, drop_first=True)\n",
    "X_train_encoded.head(3)"
   ]
  },
  {
   "cell_type": "code",
   "execution_count": null,
   "id": "20f0c3a7-711e-43b5-ae0d-517c7b310473",
   "metadata": {},
   "outputs": [],
   "source": [
    "X_test_encoded = pd.get_dummies(X_test_reduced, drop_first=True)\n",
    "X_test_encoded.head(3)"
   ]
  },
  {
   "cell_type": "code",
   "execution_count": null,
   "id": "97616278-980e-4cb1-a6d2-67c442872257",
   "metadata": {},
   "outputs": [],
   "source": [
    "from sklearn.linear_model import LogisticRegression\n",
    "from sklearn.metrics import classification_report\n",
    "\n",
    "model = LogisticRegression()\n",
    "model.fit(X_train_encoded, y_train)\n",
    "\n",
    "y_pred = model.predict(X_test_encoded)\n",
    "report = classification_report(y_test, y_pred)\n",
    "print(report)"
   ]
  },
  {
   "cell_type": "code",
   "execution_count": null,
   "id": "57e8b8f1-5be0-4042-8a51-9238feff3197",
   "metadata": {},
   "outputs": [],
   "source": [
    "feature_importance = model.coef_[0]\n",
    "\n",
    "# Create a DataFrame for easier handling\n",
    "coef_df = pd.DataFrame(feature_importance, index=X_train_encoded.columns, columns=['Coefficients'])\n",
    "\n",
    "# Sort the coefficients for better visualization\n",
    "coef_df = coef_df.sort_values(by='Coefficients', ascending=True)\n",
    "\n",
    "# Plotting\n",
    "plt.figure(figsize=(8, 4))\n",
    "plt.barh(coef_df.index, coef_df['Coefficients'], color='steelblue')\n",
    "plt.xlabel('Coefficient Value')\n",
    "plt.title('Feature Importance in Logistic Regression')\n",
    "plt.show()"
   ]
  },
  {
   "cell_type": "code",
   "execution_count": null,
   "id": "25f35849-7274-412a-833d-d2228d83e5d5",
   "metadata": {},
   "outputs": [],
   "source": [
    "from sklearn.ensemble import RandomForestClassifier\n",
    "\n",
    "model = RandomForestClassifier()\n",
    "model.fit(X_train_encoded, y_train)\n",
    "\n",
    "y_pred = model.predict(X_test_encoded)\n",
    "report = classification_report(y_test, y_pred)\n",
    "print(report)"
   ]
  },
  {
   "cell_type": "code",
   "execution_count": null,
   "id": "0fd8f84a-acb5-4939-be1b-e954eb80ae64",
   "metadata": {},
   "outputs": [],
   "source": [
    "from sklearn.model_selection import RandomizedSearchCV\n",
    "\n",
    "param_dist = {\n",
    "    'C': np.logspace(-4, 4, 20),  # Logarithmically spaced values from 10^-4 to 10^4\n",
    "    'solver': ['lbfgs', 'saga', 'liblinear', 'newton-cg']   # Algorithm to use in the optimization problem\n",
    "}\n",
    "\n",
    "# Create the Logistic Regression model\n",
    "log_reg = LogisticRegression(max_iter=10000)  # Increased max_iter for convergence\n",
    "\n",
    "# Set up RandomizedSearchCV\n",
    "random_search = RandomizedSearchCV(\n",
    "    estimator=log_reg,\n",
    "    param_distributions=param_dist,\n",
    "    n_iter=50,  # Number of parameter settings that are sampled\n",
    "    scoring='f1',\n",
    "    cv=3,  # 5-fold cross-validation\n",
    "    verbose=2,\n",
    "    random_state=42,  # Set a random state for reproducibility\n",
    "    n_jobs=-1  # Use all available cores\n",
    ")\n",
    "\n",
    "# Fit the RandomizedSearchCV to the training data\n",
    "random_search.fit(X_train_encoded, y_train)\n",
    "\n",
    "# Print the best parameters and best score\n",
    "print(f\"Best Parameters: {random_search.best_params_}\")\n",
    "print(f\"Best Score: {random_search.best_score_}\")\n",
    "\n",
    "best_model = random_search.best_estimator_\n",
    "y_pred = best_model.predict(X_test_encoded)\n",
    "print(\"Classification Report:\")\n",
    "print(classification_report(y_test, y_pred))"
   ]
  },
  {
   "cell_type": "code",
   "execution_count": null,
   "id": "e1967366-4653-4065-a4ff-2cc2f127248c",
   "metadata": {},
   "outputs": [],
   "source": [
    "from imblearn.under_sampling import RandomUnderSampler\n",
    "\n",
    "rus = RandomUnderSampler(random_state=42)\n",
    "X_train_res, y_train_res = rus.fit_resample(X_train_encoded, y_train)\n",
    "y_train_res.value_counts()"
   ]
  },
  {
   "cell_type": "code",
   "execution_count": null,
   "id": "b2e41146-f470-4dd7-817d-3acca005a689",
   "metadata": {},
   "outputs": [],
   "source": [
    "model = LogisticRegression()\n",
    "model.fit(X_train_res, y_train_res)\n",
    "\n",
    "y_pred = model.predict(X_test_encoded)\n",
    "report = classification_report(y_test, y_pred)\n",
    "print(report)"
   ]
  },
  {
   "cell_type": "code",
   "execution_count": null,
   "id": "392e0310-aef6-4dbb-90fc-77c36b8620a9",
   "metadata": {},
   "outputs": [],
   "source": [
    "from imblearn.combine import SMOTETomek\n",
    "\n",
    "smt = SMOTETomek(random_state=42)\n",
    "X_train_smt, y_train_smt = smt.fit_resample(X_train_encoded, y_train)\n",
    "y_train_smt.value_counts()"
   ]
  },
  {
   "cell_type": "code",
   "execution_count": null,
   "id": "d353c98a-f1dd-4f6b-8519-8c5682869eff",
   "metadata": {},
   "outputs": [],
   "source": [
    "model = LogisticRegression()\n",
    "model.fit(X_train_smt, y_train_smt)\n",
    "\n",
    "y_pred = model.predict(X_test_encoded)\n",
    "report = classification_report(y_test, y_pred)\n",
    "print(report)"
   ]
  },
  {
   "cell_type": "code",
   "execution_count": null,
   "id": "28f50b5a-cea8-4248-85ec-86df44ff3ecb",
   "metadata": {},
   "outputs": [],
   "source": [
    "import optuna\n",
    "from sklearn.metrics import make_scorer, f1_score\n",
    "from sklearn.model_selection import cross_val_score"
   ]
  },
  {
   "cell_type": "code",
   "execution_count": null,
   "id": "71f36152-0047-4377-b533-6017c91e5523",
   "metadata": {},
   "outputs": [],
   "source": [
    "# Define the objective function for Optuna\n",
    "def objective(trial):\n",
    "    param = {\n",
    "        'C': trial.suggest_float('C', 1e-4, 1e4, log=True),  # Logarithmically spaced values\n",
    "        'solver': trial.suggest_categorical('solver', ['lbfgs', 'liblinear', 'saga', 'newton-cg']),  # Solvers\n",
    "        'tol': trial.suggest_float('tol', 1e-6, 1e-1, log=True),  # Logarithmically spaced values for tolerance\n",
    "        'class_weight': trial.suggest_categorical('class_weight', [None, 'balanced'])  # Class weights\n",
    "    }\n",
    "\n",
    "    model = LogisticRegression(**param, max_iter=10000)\n",
    "\n",
    "    # Calculate the cross-validated f1_score\n",
    "    f1_scorer = make_scorer(f1_score, average='macro')\n",
    "    scores = cross_val_score(model, X_train_smt, y_train_smt, cv=3, scoring=f1_scorer, n_jobs=-1)\n",
    "\n",
    "    return np.mean(scores)\n",
    "\n",
    "study_logistic = optuna.create_study(direction='maximize')\n",
    "study_logistic.optimize(objective, n_trials=50)"
   ]
  },
  {
   "cell_type": "code",
   "execution_count": null,
   "id": "ce257c20-ab7c-4581-96ff-b2e4561de4b7",
   "metadata": {},
   "outputs": [],
   "source": [
    "print('Best trial:')\n",
    "trial = study_logistic.best_trial\n",
    "print('  F1-score: {}'.format(trial.value))\n",
    "print('  Params: ')\n",
    "for key, value in trial.params.items():\n",
    "    print('    {}: {}'.format(key, value))\n",
    "\n",
    "best_model_logistic = LogisticRegression(**study_logistic.best_params)\n",
    "best_model_logistic.fit(X_train_smt, y_train_smt)\n",
    "\n",
    "# Evaluate on the test set\n",
    "y_pred = best_model_logistic.predict(X_test_encoded)\n",
    "\n",
    "report = classification_report(y_test, y_pred)\n",
    "print(report)"
   ]
  },
  {
   "cell_type": "code",
   "execution_count": null,
   "id": "78d6e80a-68b7-47c9-a1dc-3665bdb74e00",
   "metadata": {},
   "outputs": [],
   "source": [
    "y_pred = best_model_logistic.predict(X_test_encoded)\n",
    "report = classification_report(y_test, y_pred)\n",
    "print(report)"
   ]
  },
  {
   "cell_type": "code",
   "execution_count": null,
   "id": "c4e4df17-4f49-4078-b6dc-d4bfb889c588",
   "metadata": {},
   "outputs": [],
   "source": [
    "from sklearn.metrics import roc_curve\n",
    "\n",
    "probabilities = best_model_logistic.predict_proba(X_test_encoded)[:,1]\n",
    "fpr, tpr, thresholds = roc_curve(y_test, probabilities)\n",
    "\n",
    "fpr[:5], tpr[:5], thresholds[:5]"
   ]
  },
  {
   "cell_type": "code",
   "execution_count": null,
   "id": "986fafdf-4968-4981-9b78-5d36b4f8ff04",
   "metadata": {},
   "outputs": [],
   "source": [
    "from sklearn.metrics import auc\n",
    "\n",
    "area = auc(fpr, tpr)\n",
    "area"
   ]
  },
  {
   "cell_type": "code",
   "execution_count": null,
   "id": "808525b0-79c7-465f-9e96-767858f1fa56",
   "metadata": {},
   "outputs": [],
   "source": [
    "plt.figure()\n",
    "plt.plot(fpr, tpr, color='darkorange', lw=2, label='ROC curve (area = %0.2f)' % area)\n",
    "plt.plot([0, 1], [0, 1], color='navy', lw=2, linestyle='--')\n",
    "plt.xlim([0.0, 1.0])\n",
    "plt.ylim([0.0, 1.05])\n",
    "plt.xlabel('False Positive Rate')\n",
    "plt.ylabel('True Positive Rate')\n",
    "plt.title('Receiver Operating Characteristic')\n",
    "plt.legend(loc=\"lower right\")\n",
    "plt.show()"
   ]
  },
  {
   "cell_type": "code",
   "execution_count": null,
   "id": "08a8812a-209c-4f93-a619-00022dae5f41",
   "metadata": {},
   "outputs": [],
   "source": [
    "probabilities = best_model_logistic.predict_proba(X_test_encoded)[:,1]\n",
    "\n",
    "df_eval = pd.DataFrame({\n",
    "    'Default Truth': y_test,\n",
    "    'Default Probability': probabilities\n",
    "})\n",
    "df_eval.head(3)"
   ]
  },
  {
   "cell_type": "code",
   "execution_count": null,
   "id": "307e69a6-2f16-4265-85ed-efbc770f84fd",
   "metadata": {},
   "outputs": [],
   "source": [
    "df_eval['Decile'] = pd.qcut(df_eval['Default Probability'], 10, labels=False, duplicates='drop')\n",
    "df_eval.head(3)"
   ]
  },
  {
   "cell_type": "code",
   "execution_count": null,
   "id": "e96a3290-38e5-4078-a888-86d61ed6b5a1",
   "metadata": {},
   "outputs": [],
   "source": [
    "df_eval[df_eval.Decile==8]['Default Probability'].describe()"
   ]
  },
  {
   "cell_type": "code",
   "execution_count": null,
   "id": "df16c5a7-babd-4165-8527-5be1a96efd75",
   "metadata": {},
   "outputs": [],
   "source": [
    "df_decile = df_eval.groupby('Decile').apply(lambda x: pd.Series({\n",
    "    'Minimum Probability': x['Default Probability'].min(),\n",
    "    'Maximum Probability': x['Default Probability'].max(),\n",
    "    'Events': x['Default Truth'].sum(),\n",
    "    'Non-events': x['Default Truth'].count() - x['Default Truth'].sum(),\n",
    "}))\n",
    "df_decile.reset_index(inplace=True)\n",
    "df_decile"
   ]
  },
  {
   "cell_type": "code",
   "execution_count": null,
   "id": "f93b2d42-ba71-4d38-8999-6fb6a116fcdb",
   "metadata": {},
   "outputs": [],
   "source": [
    "df_decile['Event Rate'] = df_decile['Events']*100 / (df_decile['Events']+df_decile['Non-events'])\n",
    "df_decile['Non-event Rate'] = df_decile['Non-events']*100 / (df_decile['Events']+df_decile['Non-events'])\n",
    "df_decile"
   ]
  },
  {
   "cell_type": "code",
   "execution_count": null,
   "id": "60130745-cb67-48ee-b185-4ba31e6b4e53",
   "metadata": {},
   "outputs": [],
   "source": [
    "df_decile = df_decile.sort_values(by='Decile', ascending=False).reset_index(drop=True)\n",
    "df_decile"
   ]
  },
  {
   "cell_type": "code",
   "execution_count": null,
   "id": "b9a6197b-22ea-43fe-b19b-5311a92e7a03",
   "metadata": {},
   "outputs": [],
   "source": [
    "df_decile['Cum Events'] =  df_decile['Events'].cumsum()\n",
    "df_decile['Cum Non-events'] =  df_decile['Non-events'].cumsum()\n",
    "df_decile"
   ]
  },
  {
   "cell_type": "code",
   "execution_count": null,
   "id": "f68d7a12-a24e-47c7-a961-18ffc081efcb",
   "metadata": {},
   "outputs": [],
   "source": [
    "df_decile['Cum Event Rate'] = df_decile['Cum Events'] * 100 / df_decile['Events'].sum()\n",
    "df_decile['Cum Non-event Rate'] = df_decile['Cum Non-events']*100 / df_decile['Non-events'].sum()\n",
    "df_decile"
   ]
  },
  {
   "cell_type": "code",
   "execution_count": null,
   "id": "7caa80ef-e8c7-406a-85f6-1acea2dde12d",
   "metadata": {},
   "outputs": [],
   "source": [
    "df_decile['KS'] = abs(df_decile['Cum Event Rate'] - df_decile['Cum Non-event Rate'])\n",
    "df_decile"
   ]
  },
  {
   "cell_type": "code",
   "execution_count": null,
   "id": "13d8d817-7b37-429f-9e68-3b33c7e4527d",
   "metadata": {},
   "outputs": [],
   "source": [
    "gini_coefficient = 2 * area - 1\n",
    "\n",
    "print(\"AUC:\", area)\n",
    "print(\"Gini Coefficient:\", gini_coefficient)"
   ]
  },
  {
   "cell_type": "code",
   "execution_count": null,
   "id": "4da79a05-a9a6-49d2-a50f-374cedcdd443",
   "metadata": {},
   "outputs": [],
   "source": [
    "final_model = best_model_logistic\n",
    "\n",
    "feature_importance = final_model.coef_[0]\n",
    "\n",
    "# Create a DataFrame for easier handling\n",
    "coef_df = pd.DataFrame(feature_importance, index=X_train_encoded.columns, columns=['Coefficients'])\n",
    "\n",
    "# Sort the coefficients for better visualization\n",
    "coef_df = coef_df.sort_values(by='Coefficients', ascending=True)\n",
    "\n",
    "# Plotting\n",
    "plt.figure(figsize=(8, 4))\n",
    "plt.barh(coef_df.index, coef_df['Coefficients'], color='steelblue')\n",
    "plt.xlabel('Coefficient Value')\n",
    "plt.title('Feature Importance in Logistic Regression')\n",
    "plt.show()"
   ]
  },
  {
   "cell_type": "code",
   "execution_count": null,
   "id": "daf27d31-900d-45a4-891d-7d43d3a4111d",
   "metadata": {},
   "outputs": [],
   "source": [
    "X_test_encoded.head(2)"
   ]
  },
  {
   "cell_type": "code",
   "execution_count": null,
   "id": "bd41a1dd-e831-48d4-9db1-4b52d9eaccd9",
   "metadata": {},
   "outputs": [],
   "source": [
    "X_test_encoded.columns"
   ]
  },
  {
   "cell_type": "code",
   "execution_count": null,
   "id": "cef5d139-0fa2-4785-ae5a-18fac57497f5",
   "metadata": {},
   "outputs": [],
   "source": [
    "cols_to_scale"
   ]
  },
  {
   "cell_type": "code",
   "execution_count": null,
   "id": "2f473e93-93b3-490b-b338-17cea8c76808",
   "metadata": {},
   "outputs": [],
   "source": [
    "X_train_encoded.columns"
   ]
  },
  {
   "cell_type": "code",
   "execution_count": null,
   "id": "a1a2c306-78d0-43fe-9520-1ccf7ea8317b",
   "metadata": {},
   "outputs": [],
   "source": [
    "final_model.coef_, final_model.intercept_"
   ]
  }
 ],
 "metadata": {
  "kernelspec": {
   "display_name": "Python 3 (ipykernel)",
   "language": "python",
   "name": "python3"
  },
  "language_info": {
   "codemirror_mode": {
    "name": "ipython",
    "version": 3
   },
   "file_extension": ".py",
   "mimetype": "text/x-python",
   "name": "python",
   "nbconvert_exporter": "python",
   "pygments_lexer": "ipython3",
   "version": "3.10.11"
  }
 },
 "nbformat": 4,
 "nbformat_minor": 5
}
